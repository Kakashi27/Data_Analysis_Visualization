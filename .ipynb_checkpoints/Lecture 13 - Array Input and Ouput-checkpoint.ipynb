{
 "cells": [
  {
   "cell_type": "code",
   "execution_count": 1,
   "id": "e2906050",
   "metadata": {},
   "outputs": [],
   "source": [
    "import numpy as np"
   ]
  },
  {
   "cell_type": "code",
   "execution_count": 2,
   "id": "24cfc484",
   "metadata": {},
   "outputs": [],
   "source": [
    "arr = np.arange(5)"
   ]
  },
  {
   "cell_type": "code",
   "execution_count": 3,
   "id": "20b56f4d",
   "metadata": {},
   "outputs": [
    {
     "data": {
      "text/plain": [
       "array([0, 1, 2, 3, 4])"
      ]
     },
     "execution_count": 3,
     "metadata": {},
     "output_type": "execute_result"
    }
   ],
   "source": [
    "arr"
   ]
  },
  {
   "cell_type": "code",
   "execution_count": 4,
   "id": "bc0cccfe",
   "metadata": {},
   "outputs": [],
   "source": [
    "np.save('myarray', arr)"
   ]
  },
  {
   "cell_type": "code",
   "execution_count": 5,
   "id": "f71b33bd",
   "metadata": {},
   "outputs": [
    {
     "data": {
      "text/plain": [
       "array([0, 1, 2, 3, 4, 5, 6, 7, 8, 9])"
      ]
     },
     "execution_count": 5,
     "metadata": {},
     "output_type": "execute_result"
    }
   ],
   "source": [
    "arr = np.arange(10)\n",
    "arr"
   ]
  },
  {
   "cell_type": "code",
   "execution_count": 7,
   "id": "b1fdac84",
   "metadata": {},
   "outputs": [
    {
     "data": {
      "text/plain": [
       "array([0, 1, 2, 3, 4])"
      ]
     },
     "execution_count": 7,
     "metadata": {},
     "output_type": "execute_result"
    }
   ],
   "source": [
    "np.load('myarray.npy')"
   ]
  },
  {
   "cell_type": "code",
   "execution_count": 8,
   "id": "bd035483",
   "metadata": {},
   "outputs": [
    {
     "data": {
      "text/plain": [
       "array([0, 1, 2, 3, 4])"
      ]
     },
     "execution_count": 8,
     "metadata": {},
     "output_type": "execute_result"
    }
   ],
   "source": [
    "array1 = np.load('myarray.npy')\n",
    "array1"
   ]
  },
  {
   "cell_type": "code",
   "execution_count": 9,
   "id": "4797817d",
   "metadata": {},
   "outputs": [
    {
     "data": {
      "text/plain": [
       "array([0, 1, 2, 3, 4, 5, 6, 7, 8, 9])"
      ]
     },
     "execution_count": 9,
     "metadata": {},
     "output_type": "execute_result"
    }
   ],
   "source": [
    "array2 = arr\n",
    "array2"
   ]
  },
  {
   "cell_type": "code",
   "execution_count": 10,
   "id": "06e51745",
   "metadata": {},
   "outputs": [],
   "source": [
    "np.savez('ziparray.npz', x=array1, y=array2)"
   ]
  },
  {
   "cell_type": "code",
   "execution_count": 11,
   "id": "c4bfde67",
   "metadata": {},
   "outputs": [],
   "source": [
    "archive_arr = np.load('ziparray.npz')"
   ]
  },
  {
   "cell_type": "code",
   "execution_count": 12,
   "id": "c39e1125",
   "metadata": {},
   "outputs": [
    {
     "data": {
      "text/plain": [
       "<numpy.lib.npyio.NpzFile at 0x1ef2e348ca0>"
      ]
     },
     "execution_count": 12,
     "metadata": {},
     "output_type": "execute_result"
    }
   ],
   "source": [
    "archive_arr"
   ]
  },
  {
   "cell_type": "code",
   "execution_count": 13,
   "id": "04833121",
   "metadata": {},
   "outputs": [
    {
     "data": {
      "text/plain": [
       "array([0, 1, 2, 3, 4])"
      ]
     },
     "execution_count": 13,
     "metadata": {},
     "output_type": "execute_result"
    }
   ],
   "source": [
    "archive_arr['x']"
   ]
  },
  {
   "cell_type": "code",
   "execution_count": 14,
   "id": "a205bb25",
   "metadata": {},
   "outputs": [
    {
     "data": {
      "text/plain": [
       "array([0, 1, 2, 3, 4, 5, 6, 7, 8, 9])"
      ]
     },
     "execution_count": 14,
     "metadata": {},
     "output_type": "execute_result"
    }
   ],
   "source": [
    "archive_arr['y']"
   ]
  },
  {
   "cell_type": "code",
   "execution_count": 15,
   "id": "d8779600",
   "metadata": {},
   "outputs": [],
   "source": [
    "arr = np.array([[1,2,3], [4,5,6]])"
   ]
  },
  {
   "cell_type": "code",
   "execution_count": 17,
   "id": "3251aa05",
   "metadata": {},
   "outputs": [],
   "source": [
    "np.savetxt('mytextarray.txt', arr, delimiter=',')"
   ]
  },
  {
   "cell_type": "code",
   "execution_count": 18,
   "id": "0c71c135",
   "metadata": {},
   "outputs": [],
   "source": [
    "arr = np.loadtxt('mytextarray.txt', delimiter=',')"
   ]
  },
  {
   "cell_type": "code",
   "execution_count": 19,
   "id": "0542bfa2",
   "metadata": {},
   "outputs": [
    {
     "data": {
      "text/plain": [
       "array([[1., 2., 3.],\n",
       "       [4., 5., 6.]])"
      ]
     },
     "execution_count": 19,
     "metadata": {},
     "output_type": "execute_result"
    }
   ],
   "source": [
    "arr"
   ]
  },
  {
   "cell_type": "code",
   "execution_count": null,
   "id": "2da8ac92",
   "metadata": {},
   "outputs": [],
   "source": []
  }
 ],
 "metadata": {
  "kernelspec": {
   "display_name": "Python 3 (ipykernel)",
   "language": "python",
   "name": "python3"
  },
  "language_info": {
   "codemirror_mode": {
    "name": "ipython",
    "version": 3
   },
   "file_extension": ".py",
   "mimetype": "text/x-python",
   "name": "python",
   "nbconvert_exporter": "python",
   "pygments_lexer": "ipython3",
   "version": "3.9.7"
  }
 },
 "nbformat": 4,
 "nbformat_minor": 5
}
