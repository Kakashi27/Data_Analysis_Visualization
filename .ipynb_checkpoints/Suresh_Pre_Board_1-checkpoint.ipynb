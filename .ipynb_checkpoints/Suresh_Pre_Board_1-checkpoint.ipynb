{
 "cells": [
  {
   "cell_type": "code",
   "execution_count": 10,
   "id": "31cad093",
   "metadata": {},
   "outputs": [
    {
     "data": {
      "image/png": "[encoded data removed]",
      "text/plain": [
       "<Figure size 432x288 with 1 Axes>"
      ]
     },
     "metadata": {
      "needs_background": "light"
     },
     "output_type": "display_data"
    }
   ],
   "source": [
    "import matplotlib.pyplot as plt\n",
    "plt.plot([1,2,3],[4,5,1])\n",
    "plt.show()"
   ]
  },
  {
   "cell_type": "code",
   "execution_count": 2,
   "id": "1deb5120",
   "metadata": {},
   "outputs": [
    {
     "name": "stdout",
     "output_type": "stream",
     "text": [
      "a    NaN\n",
      "v   -1.0\n",
      "w    2.0\n",
      "x    NaN\n",
      "y    2.0\n",
      "z    8.0\n",
      "dtype: float64\n"
     ]
    }
   ],
   "source": [
    "import pandas as pd\n",
    "S1 = pd.Series([5,6,7,8,10], index=['v','w','x','y','z'])\n",
    "l=[2,6,1,4,6]\n",
    "S2=pd.Series(l, index=['z','y','a','w','v'])\n",
    "print(S1-S2)"
   ]
  },
  {
   "cell_type": "code",
   "execution_count": 3,
   "id": "ca33a539",
   "metadata": {
    "scrolled": true
   },
   "outputs": [
    {
     "name": "stdout",
     "output_type": "stream",
     "text": [
      "A    False\n",
      "B     True\n",
      "C    False\n",
      "D     True\n",
      "E    False\n",
      "F     True\n",
      "dtype: bool\n",
      "B    2\n",
      "D    4\n",
      "F    6\n",
      "dtype: int64\n"
     ]
    }
   ],
   "source": [
    "s=pd.Series([1,2,3,4,5,6], index=['A','B','C','D','E','F'])\n",
    "print(s % 2 == 0)\n",
    "print(s[s % 2 == 0])"
   ]
  },
  {
   "cell_type": "code",
   "execution_count": 14,
   "id": "6f8cc91e",
   "metadata": {},
   "outputs": [
    {
     "name": "stdout",
     "output_type": "stream",
     "text": [
      "       Name  Phy  Chem\n",
      "0  Manpreet   70    30\n",
      "1     Kavil   60    70\n",
      "2      Manu   76    50\n",
      "3       Ria   89    65\n"
     ]
    }
   ],
   "source": [
    "Name = ['Manpreet','Kavil','Manu','Ria']\n",
    "Phy = [70,60,76,89]\n",
    "Chem = [30,70,50,65]\n",
    "df = pd.DataFrame({\"Name\":Name,\"Phy\":Phy,\"Chem\":Chem})\n",
    "print(df)"
   ]
  },
  {
   "cell_type": "code",
   "execution_count": 19,
   "id": "0eb4637e",
   "metadata": {},
   "outputs": [
    {
     "name": "stdout",
     "output_type": "stream",
     "text": [
      "(4, 3)\n",
      "12\n"
     ]
    }
   ],
   "source": [
    "print(df.shape)\n",
    "print(df.size)\n",
    "#print(df.size())"
   ]
  },
  {
   "cell_type": "code",
   "execution_count": 26,
   "id": "a8bb7353",
   "metadata": {},
   "outputs": [
    {
     "data": {
      "text/plain": [
       "0    50000\n",
       "Name: Sal, dtype: int64"
      ]
     },
     "execution_count": 26,
     "metadata": {},
     "output_type": "execute_result"
    }
   ],
   "source": [
    "EName = ['Kavita', 'Sudha', 'Garima']\n",
    "Sal = [50000, 60000, 55000]\n",
    "Bonus = [3000, 4000, 5000]\n",
    "dfl = pd.DataFrame({\"EName\":EName,\"Sal\":Sal,\"Bonus\":Bonus})\n",
    "dfl.loc[:0,'Sal']"
   ]
  },
  {
   "cell_type": "code",
   "execution_count": 41,
   "id": "dcddb280",
   "metadata": {},
   "outputs": [
    {
     "name": "stdout",
     "output_type": "stream",
     "text": [
      "       Name  Age  Marks\n",
      "0      Amit   15   90.0\n",
      "1  Bhavdeep   16    NaN\n",
      "2     Reema   17   87.0\n",
      "----------------------\n",
      "0    45.0\n",
      "1     NaN\n",
      "2    43.5\n",
      "Name: Marks, dtype: float64\n"
     ]
    }
   ],
   "source": [
    "import numpy as np\n",
    "Name = ['Amit', 'Bhavdeep', 'Reema']\n",
    "Age = [15,16,17]\n",
    "Marks = [90.0, np.nan, 87.0]\n",
    "df1 = pd.DataFrame({\"Name\":Name,\"Age\":Age,\"Marks\":Marks})\n",
    "print(df1)\n",
    "print('----------------------')\n",
    "print(df1.Marks/2)"
   ]
  },
  {
   "cell_type": "code",
   "execution_count": 38,
   "id": "d38668ca",
   "metadata": {},
   "outputs": [
    {
     "name": "stdout",
     "output_type": "stream",
     "text": [
      "         Aaradhya\n",
      "Maths          90\n",
      "Science        91\n",
      "Hindi          97\n"
     ]
    }
   ],
   "source": [
    "Sheet1 = {'Aaradhya':pd.Series([90,91,97], index=['Maths', 'Science', 'Hindi'])}\n",
    "S1 = pd.DataFrame(Sheet1)\n",
    "print(S1)"
   ]
  },
  {
   "cell_type": "code",
   "execution_count": 63,
   "id": "8b0d806b",
   "metadata": {},
   "outputs": [
    {
     "name": "stdout",
     "output_type": "stream",
     "text": [
      "         Naveen  Rehana  John  Roja  Mannat\n",
      "Maths        90      92    89    81      94\n",
      "Science      91      81    91    71      95\n",
      "Hindi        97      96    88    67      99\n"
     ]
    }
   ],
   "source": [
    "Naveen = [90,91,97]\n",
    "Rehana = [92,81,96]\n",
    "John = [89,91,88]\n",
    "Roja = [81,71,67]\n",
    "Mannat = [94,95,99]\n",
    "DF = pd.DataFrame({\"Naveen\":Naveen,\"Rehana\":Rehana,\"John\":John,\"Roja\":Roja,\"Mannat\":Mannat},\n",
    "                  index=['Maths', 'Science', 'Hindi'])\n",
    "print(DF)"
   ]
  },
  {
   "cell_type": "code",
   "execution_count": 67,
   "id": "993a4c36",
   "metadata": {},
   "outputs": [
    {
     "name": "stdout",
     "output_type": "stream",
     "text": [
      "15\n"
     ]
    },
    {
     "data": {
      "text/html": [
       "<div>\n",
       "<style scoped>\n",
       "    .dataframe tbody tr th:only-of-type {\n",
       "        vertical-align: middle;\n",
       "    }\n",
       "\n",
       "    .dataframe tbody tr th {\n",
       "        vertical-align: top;\n",
       "    }\n",
       "\n",
       "    .dataframe thead th {\n",
       "        text-align: right;\n",
       "    }\n",
       "</style>\n",
       "<table border=\"1\" class=\"dataframe\">\n",
       "  <thead>\n",
       "    <tr style=\"text-align: right;\">\n",
       "      <th></th>\n",
       "      <th>Naveen</th>\n",
       "      <th>Rehana</th>\n",
       "      <th>John</th>\n",
       "      <th>Roja</th>\n",
       "      <th>Mannat</th>\n",
       "      <th>Aaradhya</th>\n",
       "    </tr>\n",
       "  </thead>\n",
       "  <tbody>\n",
       "    <tr>\n",
       "      <th>Maths</th>\n",
       "      <td>90</td>\n",
       "      <td>92</td>\n",
       "      <td>89</td>\n",
       "      <td>81</td>\n",
       "      <td>94</td>\n",
       "      <td>90</td>\n",
       "    </tr>\n",
       "    <tr>\n",
       "      <th>Science</th>\n",
       "      <td>91</td>\n",
       "      <td>81</td>\n",
       "      <td>91</td>\n",
       "      <td>71</td>\n",
       "      <td>95</td>\n",
       "      <td>91</td>\n",
       "    </tr>\n",
       "    <tr>\n",
       "      <th>Hindi</th>\n",
       "      <td>97</td>\n",
       "      <td>96</td>\n",
       "      <td>88</td>\n",
       "      <td>67</td>\n",
       "      <td>99</td>\n",
       "      <td>97</td>\n",
       "    </tr>\n",
       "  </tbody>\n",
       "</table>\n",
       "</div>"
      ],
      "text/plain": [
       "         Naveen  Rehana  John  Roja  Mannat  Aaradhya\n",
       "Maths        90      92    89    81      94        90\n",
       "Science      91      81    91    71      95        91\n",
       "Hindi        97      96    88    67      99        97"
      ]
     },
     "execution_count": 67,
     "metadata": {},
     "output_type": "execute_result"
    }
   ],
   "source": [
    "print(DF.size)\n",
    "\n",
    "#DF.index=['Maths','Science','Hindi']\n",
    "DF.join(S1)"
   ]
  },
  {
   "cell_type": "code",
   "execution_count": 66,
   "id": "6e481f09",
   "metadata": {},
   "outputs": [
    {
     "name": "stdout",
     "output_type": "stream",
     "text": [
      "   Naveen  Rehana  John  Roja  Mannat\n",
      "A      90      92    89    81      94\n",
      "B      91      81    91    71      95\n",
      "C      97      96    88    67      99\n"
     ]
    }
   ],
   "source": [
    "DF.index=['A','B','C']\n",
    "print(DF)"
   ]
  },
  {
   "cell_type": "code",
   "execution_count": 68,
   "id": "a6214347",
   "metadata": {},
   "outputs": [
    {
     "data": {
      "text/html": [
       "<div>\n",
       "<style scoped>\n",
       "    .dataframe tbody tr th:only-of-type {\n",
       "        vertical-align: middle;\n",
       "    }\n",
       "\n",
       "    .dataframe tbody tr th {\n",
       "        vertical-align: top;\n",
       "    }\n",
       "\n",
       "    .dataframe thead th {\n",
       "        text-align: right;\n",
       "    }\n",
       "</style>\n",
       "<table border=\"1\" class=\"dataframe\">\n",
       "  <thead>\n",
       "    <tr style=\"text-align: right;\">\n",
       "      <th></th>\n",
       "      <th>Naveen</th>\n",
       "      <th>Rehana</th>\n",
       "      <th>John</th>\n",
       "      <th>Roja</th>\n",
       "      <th>Mannat</th>\n",
       "    </tr>\n",
       "  </thead>\n",
       "  <tbody>\n",
       "    <tr>\n",
       "      <th>Maths</th>\n",
       "      <td>90</td>\n",
       "      <td>92</td>\n",
       "      <td>89</td>\n",
       "      <td>81</td>\n",
       "      <td>94</td>\n",
       "    </tr>\n",
       "    <tr>\n",
       "      <th>Hindi</th>\n",
       "      <td>97</td>\n",
       "      <td>96</td>\n",
       "      <td>88</td>\n",
       "      <td>67</td>\n",
       "      <td>99</td>\n",
       "    </tr>\n",
       "  </tbody>\n",
       "</table>\n",
       "</div>"
      ],
      "text/plain": [
       "       Naveen  Rehana  John  Roja  Mannat\n",
       "Maths      90      92    89    81      94\n",
       "Hindi      97      96    88    67      99"
      ]
     },
     "execution_count": 68,
     "metadata": {},
     "output_type": "execute_result"
    }
   ],
   "source": [
    "DF.drop('Science', axis=0)"
   ]
  },
  {
   "cell_type": "code",
   "execution_count": 70,
   "id": "ed991bf0",
   "metadata": {},
   "outputs": [
    {
     "name": "stdout",
     "output_type": "stream",
     "text": [
      "       Name  Phy  Chem\n",
      "0  Manpreet   70    30\n",
      "1     Kavil   60    70\n",
      "2      Manu   76    50\n",
      "3       Ria   89    65\n"
     ]
    }
   ],
   "source": [
    "Name = ['Manpreet', 'Kavil', 'Manu', 'Ria']\n",
    "Phy = [70, 60, 76, 89]\n",
    "Chem = [30, 70, 50, 65]\n",
    "dframe = pd.DataFrame({\"Name\": Name, \"Phy\": Phy, \"Chem\": Chem})\n",
    "print(dframe)"
   ]
  },
  {
   "cell_type": "code",
   "execution_count": 9,
   "id": "c9148a91",
   "metadata": {},
   "outputs": [
    {
     "name": "stdout",
     "output_type": "stream",
     "text": [
      "o    O\n",
      "r    R\n",
      "t    T\n",
      "a    A\n",
      "b    B\n",
      "l    L\n",
      "e    E\n",
      "dtype: object\n",
      "o    O\n",
      "r    R\n",
      "t    T\n",
      "a    A\n",
      "dtype: object\n",
      "O\n"
     ]
    }
   ],
   "source": [
    "ser = pd.Series(['C','O','M','F','O','R','T','A','B','L','E'], index = ['c','o','m','f','o','r','t','a','b','l','e'])\n",
    "print(ser[4:])\n",
    "print(ser[4:8])\n",
    "print(ser[4])"
   ]
  },
  {
   "cell_type": "code",
   "execution_count": 15,
   "id": "2666c1e6",
   "metadata": {},
   "outputs": [
    {
     "data": {
      "text/plain": [
       "[<matplotlib.lines.Line2D at 0x1a678ace9d0>]"
      ]
     },
     "execution_count": 15,
     "metadata": {},
     "output_type": "execute_result"
    },
    {
     "data": {
      "image/png": "[encoded data removed]",
      "text/plain": [
       "<Figure size 432x288 with 1 Axes>"
      ]
     },
     "metadata": {
      "needs_background": "light"
     },
     "output_type": "display_data"
    }
   ],
   "source": [
    "x = [1,2,3,4,5,6,7,8,9,10,11,12]\n",
    "y = [210000, 21000, 220000, 215416, 201167, 201000, 300000, 350000, 240000, 250000, 400000, 300000]\n",
    "plt.plot(x,y,marker='*', markersize=10, color='red')"
   ]
  },
  {
   "cell_type": "code",
   "execution_count": 29,
   "id": "414b184b",
   "metadata": {},
   "outputs": [
    {
     "name": "stdout",
     "output_type": "stream",
     "text": [
      "    EMPID  EMPNAME  EMP_SALARY\n",
      "001   E01  KISHORI       67000\n",
      "002   E02    PRIYA       34000\n",
      "003   E03  DAMODAR       68000\n",
      "004   E04    REEMA       90000\n",
      "005   E05    MANOJ       43000\n",
      "-------------------------------\n",
      "    EMPID  EMPNAME  EMP_SALARY\n",
      "001   E01  KISHORI       67000\n",
      "002   E02    PRIYA       34000\n",
      "003   E03  DAMODAR       68000\n"
     ]
    }
   ],
   "source": [
    "import pandas\n",
    "EMP = {'EMPID': ['E01','E02','E03','E04','E05'],\n",
    "        'EMPNAME': ['KISHORI', 'PRIYA', 'DAMODAR', 'REEMA', 'MANOJ'],\n",
    "        'EMP_SALARY': [67000, 34000, 68000, 90000, 43000]}\n",
    "df = pandas.DataFrame(EMP, index=['001','002','003','004','005'])\n",
    "print(df)\n",
    "print('-------------------------------')\n",
    "print(df.loc['001':'003', :])"
   ]
  },
  {
   "cell_type": "code",
   "execution_count": null,
   "id": "80fc708d",
   "metadata": {},
   "outputs": [],
   "source": []
  }
 ],
 "metadata": {
  "kernelspec": {
   "display_name": "Python 3 (ipykernel)",
   "language": "python",
   "name": "python3"
  },
  "language_info": {
   "codemirror_mode": {
    "name": "ipython",
    "version": 3
   },
   "file_extension": ".py",
   "mimetype": "text/x-python",
   "name": "python",
   "nbconvert_exporter": "python",
   "pygments_lexer": "ipython3",
   "version": "3.9.7"
  }
 },
 "nbformat": 4,
 "nbformat_minor": 5
}
